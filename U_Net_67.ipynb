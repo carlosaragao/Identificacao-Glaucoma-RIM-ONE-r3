{
  "nbformat": 4,
  "nbformat_minor": 0,
  "metadata": {
    "colab": {
      "provenance": [],
      "authorship_tag": "ABX9TyMS0zZmM8w+4lhvBY26ufWK",
      "include_colab_link": true
    },
    "kernelspec": {
      "name": "python3",
      "display_name": "Python 3"
    },
    "language_info": {
      "name": "python"
    },
    "accelerator": "GPU",
    "gpuClass": "standard"
  },
  "cells": [
    {
      "cell_type": "markdown",
      "metadata": {
        "id": "view-in-github",
        "colab_type": "text"
      },
      "source": [
        "<a href=\"https://colab.research.google.com/github/carlosheadst/Identifica-o-Glaucoma-RIM-ONE-r3/blob/main/U_Net_67.ipynb\" target=\"_parent\"><img src=\"https://colab.research.google.com/assets/colab-badge.svg\" alt=\"Open In Colab\"/></a>"
      ]
    },
    {
      "cell_type": "code",
      "execution_count": null,
      "metadata": {
        "colab": {
          "base_uri": "https://localhost:8080/"
        },
        "id": "z3NtRMDzuPn7",
        "outputId": "3cc2cc5c-f345-468e-b652-f60913978282"
      },
      "outputs": [
        {
          "output_type": "stream",
          "name": "stdout",
          "text": [
            "Mounted at /content/drive\n"
          ]
        }
      ],
      "source": [
        "from google.colab import drive\n",
        "drive.mount('/content/drive')"
      ]
    },
    {
      "cell_type": "markdown",
      "source": [
        "## Imports"
      ],
      "metadata": {
        "id": "3diZI8eE9rvr"
      }
    },
    {
      "cell_type": "code",
      "source": [
        "import os\n",
        "import numpy as np\n",
        "from tensorflow.keras.preprocessing import image\n",
        "from sklearn.model_selection import train_test_split\n",
        "import tensorflow as tf\n",
        "from tensorflow.keras import layers\n",
        "from sklearn.metrics import accuracy_score, confusion_matrix\n",
        "import matplotlib.pyplot as plt\n",
        "from keras.preprocessing.image import ImageDataGenerator\n",
        "from keras.callbacks import EarlyStopping, ModelCheckpoint\n",
        "from keras.models import load_model"
      ],
      "metadata": {
        "id": "7gRzhegXue0k"
      },
      "execution_count": null,
      "outputs": []
    },
    {
      "cell_type": "markdown",
      "source": [
        "## Pré-Processamento"
      ],
      "metadata": {
        "id": "yqEQA1qI9wRm"
      }
    },
    {
      "cell_type": "code",
      "source": [
        "def load_images_from_directory(image_dir, target_size=(256, 256), color_mode=\"grayscale\"):\n",
        "    image_list = []\n",
        "    for root, _, files in os.walk(image_dir):\n",
        "        for file in files:\n",
        "            if file.lower().endswith(('.png', '.jpg', '.jpeg', '.tif', '.tiff')):\n",
        "                img_path = os.path.join(root, file)\n",
        "                img = image.load_img(img_path, target_size=target_size, color_mode=color_mode)\n",
        "                img_array = image.img_to_array(img)\n",
        "                img_array = img_array / 255.0\n",
        "                image_list.append(img_array)\n",
        "    return np.array(image_list)\n",
        "\n",
        "def load_combined_masks_from_directory(mask_dir, target_size=(256, 256)):\n",
        "    combined_mask_list = []\n",
        "    for root, _, files in os.walk(mask_dir):\n",
        "        file_map = {}\n",
        "        for file in files:\n",
        "            if file.lower().endswith(('.png', '.jpg', '.jpeg', '.tif', '.tiff')):\n",
        "                base_name = file.split('-Cup-Avg')[0].split('-Disc-Avg')[0]\n",
        "                file_map.setdefault(base_name, []).append(file)\n",
        "\n",
        "        for base_name, mask_files in file_map.items():\n",
        "            cup_file = [file for file in mask_files if \"Cup\" in file][0]\n",
        "            disc_file = [file for file in mask_files if \"Disc\" in file][0]\n",
        "\n",
        "            cup_path = os.path.join(root, cup_file)\n",
        "            disc_path = os.path.join(root, disc_file)\n",
        "\n",
        "            cup_img = image.load_img(cup_path, target_size=target_size, color_mode=\"grayscale\")\n",
        "            disc_img = image.load_img(disc_path, target_size=target_size, color_mode=\"grayscale\")\n",
        "\n",
        "            cup_array = image.img_to_array(cup_img) / 255.0\n",
        "            disc_array = image.img_to_array(disc_img) / 255.0\n",
        "\n",
        "            combined_mask = np.maximum(disc_array, cup_array * 2)\n",
        "            combined_mask_list.append(combined_mask)\n",
        "\n",
        "    return np.array(combined_mask_list)"
      ],
      "metadata": {
        "id": "aq-pSz5Iui8e"
      },
      "execution_count": null,
      "outputs": []
    },
    {
      "cell_type": "code",
      "source": [
        "dataset_path = \"/content/drive/MyDrive/RIM-ONE r3\""
      ],
      "metadata": {
        "id": "ovN4DcfUupsW"
      },
      "execution_count": null,
      "outputs": []
    },
    {
      "cell_type": "code",
      "source": [
        "glaucoma_images = load_images_from_directory(os.path.join(dataset_path, \"Glaucoma and suspects\", \"Stereo Images\"))\n",
        "healthy_images = load_images_from_directory(os.path.join(dataset_path, \"Healthy\", \"Stereo Images\"))"
      ],
      "metadata": {
        "id": "uhh2uxKUur81"
      },
      "execution_count": null,
      "outputs": []
    },
    {
      "cell_type": "code",
      "source": [
        "glaucoma_masks = load_combined_masks_from_directory(os.path.join(dataset_path, \"Glaucoma and suspects\", \"masks\"))\n",
        "healthy_masks = load_combined_masks_from_directory(os.path.join(dataset_path, \"Healthy\", \"masks\"))"
      ],
      "metadata": {
        "id": "ScJtCv5PyNbU"
      },
      "execution_count": null,
      "outputs": []
    },
    {
      "cell_type": "code",
      "source": [
        "all_images = np.concatenate((glaucoma_images, healthy_images), axis=0)\n",
        "all_masks = np.concatenate((glaucoma_masks, healthy_masks), axis=0)\n",
        "all_labels = np.concatenate((np.ones(len(glaucoma_images)), np.zeros(len(healthy_images))), axis=0)"
      ],
      "metadata": {
        "id": "LW4zpPk4uSNZ"
      },
      "execution_count": null,
      "outputs": []
    },
    {
      "cell_type": "code",
      "source": [
        "print(\"Dimensões dos arrays:\")\n",
        "print(\"all_images:\", all_images.shape)\n",
        "print(\"all_masks:\", all_masks.shape)\n",
        "print(\"all_labels:\", all_labels.shape)"
      ],
      "metadata": {
        "colab": {
          "base_uri": "https://localhost:8080/"
        },
        "id": "0O1ejG0OwVIX",
        "outputId": "4a22ba3a-0acf-4a8d-ef97-310a6564f346"
      },
      "execution_count": null,
      "outputs": [
        {
          "output_type": "stream",
          "name": "stdout",
          "text": [
            "Dimensões dos arrays:\n",
            "all_images: (159, 256, 256, 1)\n",
            "all_masks: (159, 256, 256, 1)\n",
            "all_labels: (159,)\n"
          ]
        }
      ]
    },
    {
      "cell_type": "code",
      "source": [
        "X_train, X_val, y_train, y_val = train_test_split(all_images, all_masks, test_size=0.2, random_state=42, stratify=all_labels)"
      ],
      "metadata": {
        "id": "Om2gVhgEuwqA"
      },
      "execution_count": null,
      "outputs": []
    },
    {
      "cell_type": "markdown",
      "source": [
        "## Data Augmentation"
      ],
      "metadata": {
        "id": "D7fAaP-m93uq"
      }
    },
    {
      "cell_type": "code",
      "source": [
        "def create_datagen():\n",
        "    datagen = ImageDataGenerator(\n",
        "        rotation_range=20,\n",
        "        width_shift_range=0.1,\n",
        "        height_shift_range=0.1,\n",
        "        shear_range=0.1,\n",
        "        zoom_range=0.1,\n",
        "        horizontal_flip=True,\n",
        "        fill_mode='nearest'\n",
        "    )\n",
        "    return datagen\n",
        "\n",
        "def train_generator(X_train, y_train, datagen, batch_size):\n",
        "    seed = 42\n",
        "    image_generator = datagen.flow(X_train, seed=seed, batch_size=batch_size, shuffle=True)\n",
        "    mask_generator = datagen.flow(y_train, seed=seed, batch_size=batch_size, shuffle=True)\n",
        "    while True:\n",
        "        yield (next(image_generator), next(mask_generator))"
      ],
      "metadata": {
        "id": "9vM5ui6g9ptC"
      },
      "execution_count": null,
      "outputs": []
    },
    {
      "cell_type": "code",
      "source": [
        "batch_size = 16\n",
        "datagen = create_datagen()\n",
        "training_generator = train_generator(X_train, y_train, datagen, batch_size)"
      ],
      "metadata": {
        "id": "AXuVThAr98n_"
      },
      "execution_count": null,
      "outputs": []
    },
    {
      "cell_type": "markdown",
      "source": [
        "## Definição Arquitetura U-NET"
      ],
      "metadata": {
        "id": "WsI7zacf9_78"
      }
    },
    {
      "cell_type": "code",
      "source": [
        "def conv_block(input_tensor, num_filters):\n",
        "    x = layers.Conv2D(num_filters, (3, 3), padding='same')(input_tensor)\n",
        "    x = layers.BatchNormalization()(x)\n",
        "    x = layers.Activation('relu')(x)\n",
        "\n",
        "    x = layers.Conv2D(num_filters, (3, 3), padding='same')(x)\n",
        "    x = layers.BatchNormalization()(x)\n",
        "    x = layers.Activation('relu')(x)\n",
        "\n",
        "    return x\n",
        "\n",
        "def encoder_block(input_tensor, num_filters):\n",
        "    x = conv_block(input_tensor, num_filters)\n",
        "    p = layers.MaxPooling2D((2, 2))(x)\n",
        "    return x, p\n",
        "\n",
        "def decoder_block(input_tensor, concat_tensor, num_filters):\n",
        "    x = layers.Conv2DTranspose(num_filters, (2, 2), strides=(2, 2), padding='same')(input_tensor)\n",
        "    x = layers.concatenate([x, concat_tensor])\n",
        "\n",
        "    x = conv_block(x, num_filters)\n",
        "    return x\n",
        "\n",
        "def unet_model(input_shape, num_classes=3):\n",
        "    inputs = layers.Input(shape=input_shape)\n",
        "\n",
        "    # Encoder\n",
        "    x1, p1 = encoder_block(inputs, 64)\n",
        "    x2, p2 = encoder_block(p1, 128)\n",
        "    x3, p3 = encoder_block(p2, 256)\n",
        "    x4, p4 = encoder_block(p3, 512)\n",
        "\n",
        "    # Bridge\n",
        "    bridge = conv_block(p4, 1024)\n",
        "\n",
        "    # Decoder\n",
        "    d1 = decoder_block(bridge, x4, 512)\n",
        "    d2 = decoder_block(d1, x3, 256)\n",
        "    d3 = decoder_block(d2, x2, 128)\n",
        "    d4 = decoder_block(d3, x1, 64)\n",
        "\n",
        "    # Output\n",
        "    outputs = layers.Conv2D(num_classes, (1, 1), activation='softmax')(d4)\n",
        "\n",
        "    model = tf.keras.Model(inputs=inputs, outputs=outputs)\n",
        "    return model"
      ],
      "metadata": {
        "id": "N2UNzxJrzJk-"
      },
      "execution_count": null,
      "outputs": []
    },
    {
      "cell_type": "markdown",
      "source": [
        "## Criando o modelo"
      ],
      "metadata": {
        "id": "epYrtcZg-FgA"
      }
    },
    {
      "cell_type": "code",
      "source": [
        "# Crie o modelo U-Net\n",
        "input_shape = (256, 256, 1)\n",
        "model = unet_model(input_shape)"
      ],
      "metadata": {
        "id": "T6pxkZXezVT1"
      },
      "execution_count": null,
      "outputs": []
    },
    {
      "cell_type": "code",
      "source": [
        "# Compile o modelo\n",
        "model.compile(optimizer='adam', loss='sparse_categorical_crossentropy', metrics=['accuracy'])"
      ],
      "metadata": {
        "id": "hdddXwFGzPe3"
      },
      "execution_count": null,
      "outputs": []
    },
    {
      "cell_type": "code",
      "source": [
        "# Parâmetros de treinamento\n",
        "epochs = 100\n",
        "# Para o modelo se não houver melhora no erro por 10 épocas consecutivas\n",
        "early_stopping = EarlyStopping(patience=10, verbose=1)\n",
        "# Salva durante o treinamento o melhor modelo no arquivo glaucoma_model.h5\n",
        "model_checkpoint = ModelCheckpoint(\"glaucoma_model.h5\", save_best_only=True, verbose=1)"
      ],
      "metadata": {
        "id": "dXse4Zjm_GJW"
      },
      "execution_count": null,
      "outputs": []
    },
    {
      "cell_type": "code",
      "source": [
        "# # Modelo antes do data augmentation\n",
        "# history = model.fit(\n",
        "#     X_train,\n",
        "#     y_train,\n",
        "#     batch_size=batch_size,\n",
        "#     epochs=epochs,\n",
        "#     validation_data=(X_val, y_val),\n",
        "#     shuffle=True\n",
        "# )\n",
        "\n",
        "# Modelo depois do data augmentation\n",
        "history = model.fit(training_generator,\n",
        "                    steps_per_epoch=len(X_train) // batch_size,\n",
        "                    epochs=epochs,\n",
        "                    validation_data=(X_val, y_val),\n",
        "                    callbacks=[early_stopping, model_checkpoint])"
      ],
      "metadata": {
        "colab": {
          "base_uri": "https://localhost:8080/"
        },
        "id": "1viISPuHzvKP",
        "outputId": "58e5b50c-94d7-4d5d-c474-a92e09932960"
      },
      "execution_count": null,
      "outputs": [
        {
          "output_type": "stream",
          "name": "stdout",
          "text": [
            "Epoch 1/100\n",
            "7/7 [==============================] - ETA: 0s - loss: 0.8189 - accuracy: 0.7770\n",
            "Epoch 1: val_loss improved from inf to 2.80263, saving model to glaucoma_model.h5\n",
            "7/7 [==============================] - 22s 1s/step - loss: 0.8189 - accuracy: 0.7770 - val_loss: 2.8026 - val_accuracy: 0.0213\n",
            "Epoch 2/100\n",
            "7/7 [==============================] - ETA: 0s - loss: 0.3074 - accuracy: 0.9834\n",
            "Epoch 2: val_loss did not improve from 2.80263\n",
            "7/7 [==============================] - 6s 848ms/step - loss: 0.3074 - accuracy: 0.9834 - val_loss: 110.7133 - val_accuracy: 4.1866e-04\n",
            "Epoch 3/100\n",
            "7/7 [==============================] - ETA: 0s - loss: 0.2018 - accuracy: 0.9945\n",
            "Epoch 3: val_loss did not improve from 2.80263\n",
            "7/7 [==============================] - 6s 848ms/step - loss: 0.2018 - accuracy: 0.9945 - val_loss: 267.4315 - val_accuracy: 0.0107\n",
            "Epoch 4/100\n",
            "7/7 [==============================] - ETA: 0s - loss: 0.1623 - accuracy: 0.9960\n",
            "Epoch 4: val_loss did not improve from 2.80263\n",
            "7/7 [==============================] - 6s 849ms/step - loss: 0.1623 - accuracy: 0.9960 - val_loss: 191.2845 - val_accuracy: 0.0173\n",
            "Epoch 5/100\n",
            "7/7 [==============================] - ETA: 0s - loss: 0.1357 - accuracy: 0.9981\n",
            "Epoch 5: val_loss did not improve from 2.80263\n",
            "7/7 [==============================] - 6s 876ms/step - loss: 0.1357 - accuracy: 0.9981 - val_loss: 128.8683 - val_accuracy: 0.0156\n",
            "Epoch 6/100\n",
            "7/7 [==============================] - ETA: 0s - loss: 0.1212 - accuracy: 0.9985\n",
            "Epoch 6: val_loss did not improve from 2.80263\n",
            "7/7 [==============================] - 6s 852ms/step - loss: 0.1212 - accuracy: 0.9985 - val_loss: 137.4057 - val_accuracy: 0.0225\n",
            "Epoch 7/100\n",
            "7/7 [==============================] - ETA: 0s - loss: 0.1144 - accuracy: 0.9992\n",
            "Epoch 7: val_loss did not improve from 2.80263\n",
            "7/7 [==============================] - 6s 884ms/step - loss: 0.1144 - accuracy: 0.9992 - val_loss: 382.3099 - val_accuracy: 0.0261\n",
            "Epoch 8/100\n",
            "7/7 [==============================] - ETA: 0s - loss: 0.1162 - accuracy: 0.9987\n",
            "Epoch 8: val_loss did not improve from 2.80263\n",
            "7/7 [==============================] - 6s 863ms/step - loss: 0.1162 - accuracy: 0.9987 - val_loss: 372.5934 - val_accuracy: 0.0207\n",
            "Epoch 9/100\n",
            "7/7 [==============================] - ETA: 0s - loss: 0.1118 - accuracy: 0.9984\n",
            "Epoch 9: val_loss did not improve from 2.80263\n",
            "7/7 [==============================] - 6s 894ms/step - loss: 0.1118 - accuracy: 0.9984 - val_loss: 61.0174 - val_accuracy: 0.0377\n",
            "Epoch 10/100\n",
            "7/7 [==============================] - ETA: 0s - loss: 0.1030 - accuracy: 0.9993\n",
            "Epoch 10: val_loss did not improve from 2.80263\n",
            "7/7 [==============================] - 6s 880ms/step - loss: 0.1030 - accuracy: 0.9993 - val_loss: 9.9360 - val_accuracy: 0.3585\n",
            "Epoch 11/100\n",
            "7/7 [==============================] - ETA: 0s - loss: 0.1026 - accuracy: 0.9988\n",
            "Epoch 11: val_loss improved from 2.80263 to 2.09620, saving model to glaucoma_model.h5\n",
            "7/7 [==============================] - 7s 1s/step - loss: 0.1026 - accuracy: 0.9988 - val_loss: 2.0962 - val_accuracy: 0.7131\n",
            "Epoch 12/100\n",
            "7/7 [==============================] - ETA: 0s - loss: 0.0970 - accuracy: 0.9993\n",
            "Epoch 12: val_loss did not improve from 2.09620\n",
            "7/7 [==============================] - 6s 881ms/step - loss: 0.0970 - accuracy: 0.9993 - val_loss: 8.0843 - val_accuracy: 0.1304\n",
            "Epoch 13/100\n",
            "7/7 [==============================] - ETA: 0s - loss: 0.0977 - accuracy: 0.9991\n",
            "Epoch 13: val_loss improved from 2.09620 to 0.47808, saving model to glaucoma_model.h5\n",
            "7/7 [==============================] - 7s 1s/step - loss: 0.0977 - accuracy: 0.9991 - val_loss: 0.4781 - val_accuracy: 0.9329\n",
            "Epoch 14/100\n",
            "7/7 [==============================] - ETA: 0s - loss: 0.0937 - accuracy: 0.9996\n",
            "Epoch 14: val_loss did not improve from 0.47808\n",
            "7/7 [==============================] - 6s 893ms/step - loss: 0.0937 - accuracy: 0.9996 - val_loss: 1.3015 - val_accuracy: 0.4204\n",
            "Epoch 15/100\n",
            "7/7 [==============================] - ETA: 0s - loss: 0.0951 - accuracy: 0.9994\n",
            "Epoch 15: val_loss did not improve from 0.47808\n",
            "7/7 [==============================] - 6s 889ms/step - loss: 0.0951 - accuracy: 0.9994 - val_loss: 4.4013 - val_accuracy: 0.3494\n",
            "Epoch 16/100\n",
            "7/7 [==============================] - ETA: 0s - loss: 0.0939 - accuracy: 0.9992\n",
            "Epoch 16: val_loss improved from 0.47808 to 0.30291, saving model to glaucoma_model.h5\n",
            "7/7 [==============================] - 7s 1s/step - loss: 0.0939 - accuracy: 0.9992 - val_loss: 0.3029 - val_accuracy: 0.9984\n",
            "Epoch 17/100\n",
            "7/7 [==============================] - ETA: 0s - loss: 0.0935 - accuracy: 0.9993\n",
            "Epoch 17: val_loss improved from 0.30291 to 0.14251, saving model to glaucoma_model.h5\n",
            "7/7 [==============================] - 8s 1s/step - loss: 0.0935 - accuracy: 0.9993 - val_loss: 0.1425 - val_accuracy: 1.0000\n",
            "Epoch 18/100\n",
            "7/7 [==============================] - ETA: 0s - loss: 0.0906 - accuracy: 0.9994\n",
            "Epoch 18: val_loss improved from 0.14251 to 0.13308, saving model to glaucoma_model.h5\n",
            "7/7 [==============================] - 8s 1s/step - loss: 0.0906 - accuracy: 0.9994 - val_loss: 0.1331 - val_accuracy: 1.0000\n",
            "Epoch 19/100\n",
            "7/7 [==============================] - ETA: 0s - loss: 0.0917 - accuracy: 0.9994\n",
            "Epoch 19: val_loss improved from 0.13308 to 0.13222, saving model to glaucoma_model.h5\n",
            "7/7 [==============================] - 8s 1s/step - loss: 0.0917 - accuracy: 0.9994 - val_loss: 0.1322 - val_accuracy: 1.0000\n",
            "Epoch 20/100\n",
            "7/7 [==============================] - ETA: 0s - loss: 0.0894 - accuracy: 0.9996\n",
            "Epoch 20: val_loss improved from 0.13222 to 0.12824, saving model to glaucoma_model.h5\n",
            "7/7 [==============================] - 7s 1s/step - loss: 0.0894 - accuracy: 0.9996 - val_loss: 0.1282 - val_accuracy: 1.0000\n",
            "Epoch 21/100\n",
            "7/7 [==============================] - ETA: 0s - loss: 0.0896 - accuracy: 0.9994\n",
            "Epoch 21: val_loss did not improve from 0.12824\n",
            "7/7 [==============================] - 6s 909ms/step - loss: 0.0896 - accuracy: 0.9994 - val_loss: 0.1296 - val_accuracy: 1.0000\n",
            "Epoch 22/100\n",
            "7/7 [==============================] - ETA: 0s - loss: 0.0872 - accuracy: 0.9994\n",
            "Epoch 22: val_loss improved from 0.12824 to 0.12604, saving model to glaucoma_model.h5\n",
            "7/7 [==============================] - 7s 1s/step - loss: 0.0872 - accuracy: 0.9994 - val_loss: 0.1260 - val_accuracy: 1.0000\n",
            "Epoch 23/100\n",
            "7/7 [==============================] - ETA: 0s - loss: 0.0849 - accuracy: 0.9993\n",
            "Epoch 23: val_loss improved from 0.12604 to 0.11611, saving model to glaucoma_model.h5\n",
            "7/7 [==============================] - 8s 1s/step - loss: 0.0849 - accuracy: 0.9993 - val_loss: 0.1161 - val_accuracy: 1.0000\n",
            "Epoch 24/100\n",
            "7/7 [==============================] - ETA: 0s - loss: 0.0846 - accuracy: 0.9990\n",
            "Epoch 24: val_loss improved from 0.11611 to 0.11417, saving model to glaucoma_model.h5\n",
            "7/7 [==============================] - 7s 1s/step - loss: 0.0846 - accuracy: 0.9990 - val_loss: 0.1142 - val_accuracy: 1.0000\n",
            "Epoch 25/100\n",
            "7/7 [==============================] - ETA: 0s - loss: 0.0825 - accuracy: 0.9996\n",
            "Epoch 25: val_loss did not improve from 0.11417\n",
            "7/7 [==============================] - 6s 899ms/step - loss: 0.0825 - accuracy: 0.9996 - val_loss: 0.1159 - val_accuracy: 1.0000\n",
            "Epoch 26/100\n",
            "7/7 [==============================] - ETA: 0s - loss: 0.0836 - accuracy: 0.9993\n",
            "Epoch 26: val_loss did not improve from 0.11417\n",
            "7/7 [==============================] - 6s 897ms/step - loss: 0.0836 - accuracy: 0.9993 - val_loss: 0.1259 - val_accuracy: 1.0000\n",
            "Epoch 27/100\n",
            "7/7 [==============================] - ETA: 0s - loss: 0.0814 - accuracy: 0.9995\n",
            "Epoch 27: val_loss did not improve from 0.11417\n",
            "7/7 [==============================] - 6s 892ms/step - loss: 0.0814 - accuracy: 0.9995 - val_loss: 0.1157 - val_accuracy: 1.0000\n",
            "Epoch 28/100\n",
            "7/7 [==============================] - ETA: 0s - loss: 0.0831 - accuracy: 0.9993\n",
            "Epoch 28: val_loss did not improve from 0.11417\n",
            "7/7 [==============================] - 6s 888ms/step - loss: 0.0831 - accuracy: 0.9993 - val_loss: 0.1169 - val_accuracy: 1.0000\n",
            "Epoch 29/100\n",
            "7/7 [==============================] - ETA: 0s - loss: 0.0792 - accuracy: 0.9993\n",
            "Epoch 29: val_loss did not improve from 0.11417\n",
            "7/7 [==============================] - 6s 910ms/step - loss: 0.0792 - accuracy: 0.9993 - val_loss: 0.1220 - val_accuracy: 1.0000\n",
            "Epoch 30/100\n",
            "7/7 [==============================] - ETA: 0s - loss: 0.0819 - accuracy: 0.9997\n",
            "Epoch 30: val_loss improved from 0.11417 to 0.10834, saving model to glaucoma_model.h5\n",
            "7/7 [==============================] - 7s 1s/step - loss: 0.0819 - accuracy: 0.9997 - val_loss: 0.1083 - val_accuracy: 1.0000\n",
            "Epoch 31/100\n",
            "7/7 [==============================] - ETA: 0s - loss: 0.0786 - accuracy: 0.9995\n",
            "Epoch 31: val_loss did not improve from 0.10834\n",
            "7/7 [==============================] - 6s 914ms/step - loss: 0.0786 - accuracy: 0.9995 - val_loss: 0.1102 - val_accuracy: 1.0000\n",
            "Epoch 32/100\n",
            "7/7 [==============================] - ETA: 0s - loss: 0.0772 - accuracy: 0.9994\n",
            "Epoch 32: val_loss did not improve from 0.10834\n",
            "7/7 [==============================] - 6s 883ms/step - loss: 0.0772 - accuracy: 0.9994 - val_loss: 0.1152 - val_accuracy: 1.0000\n",
            "Epoch 33/100\n",
            "7/7 [==============================] - ETA: 0s - loss: 0.0790 - accuracy: 0.9988\n",
            "Epoch 33: val_loss improved from 0.10834 to 0.10693, saving model to glaucoma_model.h5\n",
            "7/7 [==============================] - 8s 1s/step - loss: 0.0790 - accuracy: 0.9988 - val_loss: 0.1069 - val_accuracy: 1.0000\n",
            "Epoch 34/100\n",
            "7/7 [==============================] - ETA: 0s - loss: 0.0754 - accuracy: 0.9989\n",
            "Epoch 34: val_loss did not improve from 0.10693\n",
            "7/7 [==============================] - 6s 894ms/step - loss: 0.0754 - accuracy: 0.9989 - val_loss: 0.1166 - val_accuracy: 1.0000\n",
            "Epoch 35/100\n",
            "7/7 [==============================] - ETA: 0s - loss: 0.0787 - accuracy: 0.9995\n",
            "Epoch 35: val_loss did not improve from 0.10693\n",
            "7/7 [==============================] - 6s 912ms/step - loss: 0.0787 - accuracy: 0.9995 - val_loss: 0.1097 - val_accuracy: 1.0000\n",
            "Epoch 36/100\n",
            "7/7 [==============================] - ETA: 0s - loss: 0.0753 - accuracy: 0.9997\n",
            "Epoch 36: val_loss did not improve from 0.10693\n",
            "7/7 [==============================] - 6s 909ms/step - loss: 0.0753 - accuracy: 0.9997 - val_loss: 0.1151 - val_accuracy: 1.0000\n",
            "Epoch 37/100\n",
            "7/7 [==============================] - ETA: 0s - loss: 0.0755 - accuracy: 0.9997\n",
            "Epoch 37: val_loss improved from 0.10693 to 0.10677, saving model to glaucoma_model.h5\n",
            "7/7 [==============================] - 8s 1s/step - loss: 0.0755 - accuracy: 0.9997 - val_loss: 0.1068 - val_accuracy: 1.0000\n",
            "Epoch 38/100\n",
            "7/7 [==============================] - ETA: 0s - loss: 0.0737 - accuracy: 0.9994\n",
            "Epoch 38: val_loss did not improve from 0.10677\n",
            "7/7 [==============================] - 6s 887ms/step - loss: 0.0737 - accuracy: 0.9994 - val_loss: 0.1182 - val_accuracy: 1.0000\n",
            "Epoch 39/100\n",
            "7/7 [==============================] - ETA: 0s - loss: 0.0739 - accuracy: 0.9994\n",
            "Epoch 39: val_loss improved from 0.10677 to 0.10426, saving model to glaucoma_model.h5\n",
            "7/7 [==============================] - 8s 1s/step - loss: 0.0739 - accuracy: 0.9994 - val_loss: 0.1043 - val_accuracy: 1.0000\n",
            "Epoch 40/100\n",
            "7/7 [==============================] - ETA: 0s - loss: 0.0734 - accuracy: 0.9994\n",
            "Epoch 40: val_loss improved from 0.10426 to 0.09763, saving model to glaucoma_model.h5\n",
            "7/7 [==============================] - 7s 1s/step - loss: 0.0734 - accuracy: 0.9994 - val_loss: 0.0976 - val_accuracy: 1.0000\n",
            "Epoch 41/100\n",
            "7/7 [==============================] - ETA: 0s - loss: 0.0721 - accuracy: 0.9996\n",
            "Epoch 41: val_loss did not improve from 0.09763\n",
            "7/7 [==============================] - 6s 918ms/step - loss: 0.0721 - accuracy: 0.9996 - val_loss: 0.1159 - val_accuracy: 1.0000\n",
            "Epoch 42/100\n",
            "7/7 [==============================] - ETA: 0s - loss: 0.0745 - accuracy: 0.9998\n",
            "Epoch 42: val_loss did not improve from 0.09763\n",
            "7/7 [==============================] - 6s 899ms/step - loss: 0.0745 - accuracy: 0.9998 - val_loss: 0.1213 - val_accuracy: 1.0000\n",
            "Epoch 43/100\n",
            "7/7 [==============================] - ETA: 0s - loss: 0.0696 - accuracy: 0.9993\n",
            "Epoch 43: val_loss did not improve from 0.09763\n",
            "7/7 [==============================] - 6s 894ms/step - loss: 0.0696 - accuracy: 0.9993 - val_loss: 0.1212 - val_accuracy: 1.0000\n",
            "Epoch 44/100\n",
            "7/7 [==============================] - ETA: 0s - loss: 0.0752 - accuracy: 0.9998\n",
            "Epoch 44: val_loss did not improve from 0.09763\n",
            "7/7 [==============================] - 6s 891ms/step - loss: 0.0752 - accuracy: 0.9998 - val_loss: 0.1134 - val_accuracy: 1.0000\n",
            "Epoch 45/100\n",
            "7/7 [==============================] - ETA: 0s - loss: 0.0697 - accuracy: 0.9998\n",
            "Epoch 45: val_loss did not improve from 0.09763\n",
            "7/7 [==============================] - 6s 891ms/step - loss: 0.0697 - accuracy: 0.9998 - val_loss: 0.1181 - val_accuracy: 1.0000\n",
            "Epoch 46/100\n",
            "7/7 [==============================] - ETA: 0s - loss: 0.0718 - accuracy: 0.9996\n",
            "Epoch 46: val_loss did not improve from 0.09763\n",
            "7/7 [==============================] - 6s 888ms/step - loss: 0.0718 - accuracy: 0.9996 - val_loss: 0.1233 - val_accuracy: 1.0000\n",
            "Epoch 47/100\n",
            "7/7 [==============================] - ETA: 0s - loss: 0.0713 - accuracy: 0.9993\n",
            "Epoch 47: val_loss did not improve from 0.09763\n",
            "7/7 [==============================] - 6s 890ms/step - loss: 0.0713 - accuracy: 0.9993 - val_loss: 0.1157 - val_accuracy: 1.0000\n",
            "Epoch 48/100\n",
            "7/7 [==============================] - ETA: 0s - loss: 0.0705 - accuracy: 0.9995\n",
            "Epoch 48: val_loss did not improve from 0.09763\n",
            "7/7 [==============================] - 6s 890ms/step - loss: 0.0705 - accuracy: 0.9995 - val_loss: 0.1177 - val_accuracy: 1.0000\n",
            "Epoch 49/100\n",
            "7/7 [==============================] - ETA: 0s - loss: 0.0714 - accuracy: 0.9995\n",
            "Epoch 49: val_loss did not improve from 0.09763\n",
            "7/7 [==============================] - 6s 894ms/step - loss: 0.0714 - accuracy: 0.9995 - val_loss: 0.1245 - val_accuracy: 1.0000\n",
            "Epoch 50/100\n",
            "7/7 [==============================] - ETA: 0s - loss: 0.0700 - accuracy: 0.9995\n",
            "Epoch 50: val_loss did not improve from 0.09763\n",
            "7/7 [==============================] - 6s 900ms/step - loss: 0.0700 - accuracy: 0.9995 - val_loss: 0.1310 - val_accuracy: 1.0000\n",
            "Epoch 50: early stopping\n"
          ]
        }
      ]
    },
    {
      "cell_type": "code",
      "source": [
        "def plot_history(history):\n",
        "    # Extrair informações do histórico\n",
        "    acc = history.history['accuracy']\n",
        "    val_acc = history.history['val_accuracy']\n",
        "    loss = history.history['loss']\n",
        "    val_loss = history.history['val_loss']\n",
        "    epochs = range(1, len(acc) + 1)\n",
        "\n",
        "    # Gráfico de acurácia\n",
        "    plt.figure(figsize=(10, 5))\n",
        "    plt.subplot(1, 2, 1)\n",
        "    plt.plot(epochs, acc, 'bo', label='Acurácia - treinamento')\n",
        "    plt.plot(epochs, val_acc, 'b', label='Acurácia - validação')\n",
        "    plt.title('Acurácia no treinamento e na validação')\n",
        "    plt.xlabel('Épocas')\n",
        "    plt.ylabel('Acurácia')\n",
        "    plt.legend()\n",
        "\n",
        "    # Gráfico de perda\n",
        "    plt.subplot(1, 2, 2)\n",
        "    plt.plot(epochs, loss, 'bo', label='Perda - treinamento')\n",
        "    plt.plot(epochs, val_loss, 'b', label='Perda - validação')\n",
        "    plt.title('Perda no treinamento e na validação')\n",
        "    plt.xlabel('Épocas')\n",
        "    plt.ylabel('Perda')\n",
        "    plt.legend()\n",
        "\n",
        "    plt.show()"
      ],
      "metadata": {
        "id": "tfNT6SNf7Meu"
      },
      "execution_count": null,
      "outputs": []
    },
    {
      "cell_type": "code",
      "source": [
        "plot_history(history)"
      ],
      "metadata": {
        "colab": {
          "base_uri": "https://localhost:8080/",
          "height": 490
        },
        "id": "IM9K9zol7UiM",
        "outputId": "f0c93bd8-a522-4322-e44a-f7c262e85c69"
      },
      "execution_count": null,
      "outputs": [
        {
          "output_type": "display_data",
          "data": {
            "text/plain": [
              "<Figure size 1000x500 with 2 Axes>"
            ],
            "image/png": "[encoded data removed]"
          },
          "metadata": {}
        }
      ]
    },
    {
      "cell_type": "code",
      "source": [
        "def preprocess_image(image_path, target_size=(256, 256)):\n",
        "    img = image.load_img(image_path, target_size=target_size, color_mode='grayscale')\n",
        "    img_array = image.img_to_array(img)\n",
        "    img_array = img_array / 255.0\n",
        "    img_array = np.expand_dims(img_array, axis=0)\n",
        "    return img_array"
      ],
      "metadata": {
        "id": "AiXczybv3co_"
      },
      "execution_count": null,
      "outputs": []
    },
    {
      "cell_type": "code",
      "source": [
        "# Carregando modelo salvo\n",
        "model = load_model(\"glaucoma_model.h5\")"
      ],
      "metadata": {
        "id": "RFvEDX14BOn6"
      },
      "execution_count": null,
      "outputs": []
    },
    {
      "cell_type": "code",
      "source": [
        "# Carregar e pré-processar a nova imagem\n",
        "new_image_path = '/content/drive/MyDrive/RIM-ONE r3/Glaucoma and suspects/Stereo Images/G-1-L.jpg'\n",
        "# new_image_path = '/content/drive/MyDrive/RIM-ONE r3/Healthy/Stereo Images/N-1-L.jpg'\n",
        "new_image = preprocess_image(new_image_path)"
      ],
      "metadata": {
        "id": "va5VvhZl3g4t"
      },
      "execution_count": null,
      "outputs": []
    },
    {
      "cell_type": "code",
      "source": [
        "# Fazer a predição usando o modelo treinado\n",
        "prediction = model.predict(new_image)\n",
        "\n",
        "# Identificar as regiões do disco óptico e da escavação\n",
        "predicted_mask = np.argmax(prediction[0], axis=-1)\n",
        "optic_disc_region = predicted_mask == 1\n",
        "cup_region = predicted_mask == 2\n",
        "\n",
        "# Calcular a razão entre a área da escavação e a área do disco óptico\n",
        "cup_to_disc_ratio = np.sum(cup_region) / np.sum(optic_disc_region)\n",
        "\n",
        "print(\"Razão entre a área da escavação e a área do disco óptico: {:.2f}\".format(cup_to_disc_ratio))"
      ],
      "metadata": {
        "colab": {
          "base_uri": "https://localhost:8080/"
        },
        "id": "BKVDzNI43TzX",
        "outputId": "d6c6a9d1-017d-48e2-dc4a-1f093b276517"
      },
      "execution_count": null,
      "outputs": [
        {
          "output_type": "stream",
          "name": "stdout",
          "text": [
            "1/1 [==============================] - 0s 32ms/step\n",
            "Razão entre a área da escavação e a área do disco óptico: nan\n"
          ]
        },
        {
          "output_type": "stream",
          "name": "stderr",
          "text": [
            "<ipython-input-108-53df8fc87f4a>:10: RuntimeWarning: invalid value encountered in long_scalars\n",
            "  cup_to_disc_ratio = np.sum(cup_region) / np.sum(optic_disc_region)\n"
          ]
        }
      ]
    },
    {
      "cell_type": "code",
      "source": [
        "def load_test_images(test_set_path):\n",
        "    X_test, y_test = [], []\n",
        "    for label, folder in enumerate(['normal', 'glaucoma']):\n",
        "        folder_path = os.path.join(test_set_path, folder)\n",
        "        for file in os.listdir(folder_path):\n",
        "            img_path = os.path.join(folder_path, file)\n",
        "            img_array = preprocess_image(img_path)\n",
        "            X_test.append(img_array)\n",
        "            y_test.append(label)\n",
        "    return np.vstack(X_test), np.array(y_test)"
      ],
      "metadata": {
        "id": "v_nAnVfC6OYw"
      },
      "execution_count": null,
      "outputs": []
    },
    {
      "cell_type": "code",
      "source": [
        "# Carregar e pré-processar as imagens de teste\n",
        "test_set_path = '/content/drive/MyDrive/test_set'\n",
        "X_test, y_test = load_test_images(test_set_path)"
      ],
      "metadata": {
        "id": "KF2Wxfu_6XGW"
      },
      "execution_count": null,
      "outputs": []
    },
    {
      "cell_type": "code",
      "source": [
        "# Carregando modelo salvo\n",
        "model = load_model(\"glaucoma_model.h5\")\n",
        "\n",
        "# Fazer previsões e calcular as probabilidades de glaucoma\n",
        "predictions = model.predict(X_test)\n",
        "glaucoma_probabilities = np.mean(predictions[:, :, :, 1], axis=(1, 2))"
      ],
      "metadata": {
        "colab": {
          "base_uri": "https://localhost:8080/"
        },
        "id": "C2PcDpsh6f1r",
        "outputId": "8fc69cbf-2b75-4d2e-ce47-770c4d3ffd5b"
      },
      "execution_count": null,
      "outputs": [
        {
          "output_type": "stream",
          "name": "stdout",
          "text": [
            "6/6 [==============================] - 3s 475ms/step\n"
          ]
        }
      ]
    },
    {
      "cell_type": "code",
      "source": [
        "# Definir um limite de probabilidade para classificar as imagens como glaucoma ou normal\n",
        "threshold = 0.5\n",
        "y_pred = (glaucoma_probabilities > threshold).astype(int)\n",
        "\n",
        "# Calcular métricas de avaliação\n",
        "accuracy = accuracy_score(y_test, y_pred)\n",
        "cm = confusion_matrix(y_test, y_pred)\n",
        "sensitivity = cm[1, 1] / (cm[1, 1] + cm[1, 0])\n",
        "specificity = cm[0, 0] / (cm[0, 0] + cm[0, 1])\n",
        "\n",
        "print(\"Acurácia: {:.2%}\".format(accuracy))\n",
        "print(\"Sensibilidade: {:.2%}\".format(sensitivity))\n",
        "print(\"Especificidade: {:.2%}\".format(specificity))"
      ],
      "metadata": {
        "colab": {
          "base_uri": "https://localhost:8080/"
        },
        "id": "_NdSzloJ6oNX",
        "outputId": "1a1e568e-49b6-4baa-ad84-a1660614075f"
      },
      "execution_count": null,
      "outputs": [
        {
          "output_type": "stream",
          "name": "stdout",
          "text": [
            "Acurácia: 67.82%\n",
            "Sensibilidade: 0.00%\n",
            "Especificidade: 100.00%\n"
          ]
        }
      ]
    }
  ]
}